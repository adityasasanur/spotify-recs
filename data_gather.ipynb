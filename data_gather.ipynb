{
  "cells": [
    {
      "cell_type": "code",
      "source": [
        "pip install spotipy"
      ],
      "metadata": {
        "colab": {
          "base_uri": "https://localhost:8080/"
        },
        "id": "YpWdiZGLeZMX",
        "outputId": "db4b3e15-6dad-44a8-cc62-8745b326c15f"
      },
      "execution_count": 15,
      "outputs": [
        {
          "output_type": "stream",
          "name": "stdout",
          "text": [
            "Requirement already satisfied: spotipy in /usr/local/lib/python3.10/dist-packages (2.23.0)\n",
            "Requirement already satisfied: redis>=3.5.3 in /usr/local/lib/python3.10/dist-packages (from spotipy) (5.0.1)\n",
            "Requirement already satisfied: requests>=2.25.0 in /usr/local/lib/python3.10/dist-packages (from spotipy) (2.31.0)\n",
            "Requirement already satisfied: six>=1.15.0 in /usr/local/lib/python3.10/dist-packages (from spotipy) (1.16.0)\n",
            "Requirement already satisfied: urllib3>=1.26.0 in /usr/local/lib/python3.10/dist-packages (from spotipy) (2.0.7)\n",
            "Requirement already satisfied: async-timeout>=4.0.2 in /usr/local/lib/python3.10/dist-packages (from redis>=3.5.3->spotipy) (4.0.3)\n",
            "Requirement already satisfied: charset-normalizer<4,>=2 in /usr/local/lib/python3.10/dist-packages (from requests>=2.25.0->spotipy) (3.3.1)\n",
            "Requirement already satisfied: idna<4,>=2.5 in /usr/local/lib/python3.10/dist-packages (from requests>=2.25.0->spotipy) (3.4)\n",
            "Requirement already satisfied: certifi>=2017.4.17 in /usr/local/lib/python3.10/dist-packages (from requests>=2.25.0->spotipy) (2023.7.22)\n"
          ]
        }
      ]
    },
    {
      "cell_type": "code",
      "execution_count": 19,
      "metadata": {
        "id": "BnJQqlS2dVHN"
      },
      "outputs": [],
      "source": [
        "import spotipy as spot\n",
        "from spotipy.oauth2 import SpotifyClientCredentials\n",
        "from collections import defaultdict\n",
        "import networkx as nx\n",
        "import matplotlib.pyplot as plt\n",
        "import csv"
      ]
    },
    {
      "cell_type": "code",
      "execution_count": 32,
      "metadata": {
        "id": "jxP5H7ObdVHP"
      },
      "outputs": [],
      "source": [
        "\n",
        "cid = \"84ffbde9b5764c61b02a9cfd5f686a0f\"\n",
        "secret = \"cd3e066799c547f391387ed5e42eca20\"\n",
        "client_credentials_manager = SpotifyClientCredentials(client_id=cid, client_secret=secret)\n",
        "\n",
        "sp = spot.Spotify(client_credentials_manager = client_credentials_manager)\n",
        "unique_artists = set()\n",
        "def create_artists_network(id):\n",
        "\n",
        "    artists_network = {}\n",
        "    artists = set()\n",
        "    edges = set()\n",
        "    connection_degree = {}\n",
        "\n",
        "    artist_0 = sp.artist(id)\n",
        "    artists_network[\"id\"] = artist_0[\"id\"]\n",
        "    artists_network[\"name\"] = artist_0[\"name\"]\n",
        "    artists_network[\"genres\"] = artist_0[\"genres\"]\n",
        "    artists_network[\"popularity\"] = artist_0[\"popularity\"]\n",
        "    artists_network[\"related_artists\"] = {}\n",
        "\n",
        "    artists.add(artist_0[\"name\"])\n",
        "    connection_degree[artist_0[\"name\"]] = 0\n",
        "\n",
        "    artists_1 = sp.artist_related_artists(id)\n",
        "\n",
        "    for i in range(20):\n",
        "        artists_network[\"related_artists\"][i] = {}\n",
        "        artists_network[\"related_artists\"][i][\"id\"] = artists_1['artists'][i]['id']\n",
        "\n",
        "        artists_network[\"related_artists\"][i][\"name\"] = artists_1['artists'][i]['name']\n",
        "        artists_network[\"related_artists\"][i][\"genres\"] = artists_1['artists'][i]['genres']\n",
        "        artists_network[\"related_artists\"][i][\"popularity\"] = artists_1['artists'][i]['popularity']\n",
        "\n",
        "        artists_2 = sp.artist_related_artists(artists_1['artists'][i]['id'])\n",
        "        artists_network[\"related_artists\"][i][\"related_artists\"] = {}\n",
        "\n",
        "        artists.add(artists_1['artists'][i]['name'])\n",
        "        edges.add(tuple(sorted(([artist_0[\"name\"], artists_1['artists'][i]['name']]))))\n",
        "        if artists_1['artists'][i]['name'] not in connection_degree:\n",
        "            connection_degree[artists_1['artists'][i]['name']] = 1\n",
        "        for j in range(19):\n",
        "            artists_network[\"related_artists\"][i][\"related_artists\"][j] = {}\n",
        "            artists_network[\"related_artists\"][i][\"related_artists\"][j][\"id\"] =artists_2['artists'][j]['id']\n",
        "            artists_network[\"related_artists\"][i][\"related_artists\"][j][\"name\"] = artists_2['artists'][j]['name']\n",
        "            artists_network[\"related_artists\"][i][\"related_artists\"][j][\"genres\"] = artists_2['artists'][j]['genres']\n",
        "            artists_network[\"related_artists\"][i][\"related_artists\"][j][\"popularity\"] = artists_2['artists'][j]['popularity']\n",
        "\n",
        "            artists.add(artists_2['artists'][j]['name'])\n",
        "            edges.add(tuple(sorted(([artists_1['artists'][i]['name'], artists_2['artists'][j]['name']]))))\n",
        "            if artists_2['artists'][j]['name'] not in connection_degree:\n",
        "                connection_degree[artists_2['artists'][j]['name']] = 2\n",
        "\n",
        "\n",
        "    return artists_network, artists, edges\n",
        "\n",
        "artists_network, artists, edges = create_artists_network(\"6jJ0s89eD6GaHleKKya26X\")\n",
        "\n"
      ]
    },
    {
      "cell_type": "code",
      "source": [
        "def top_degree_artists(nodes, edges):\n",
        "    degree_dict = {}\n",
        "\n",
        "    for artist_name in nodes:\n",
        "        degree_dict[artist_name] = 0\n",
        "\n",
        "    for (x, y) in edges:\n",
        "        degree_dict[x] += 1\n",
        "        degree_dict[y] += 1\n",
        "\n",
        "    # Sort the artists by their degrees in descending order\n",
        "    sorted_artists = sorted(degree_dict.items(), key=lambda x: x[1], reverse=True)\n",
        "\n",
        "    # Get the top 5 recommendations\n",
        "    top_5_recommendations = sorted_artists[:5]\n",
        "\n",
        "    return top_5_recommendations\n",
        "\n",
        "artists_network, artists, edges = create_artists_network(\"6jJ0s89eD6GaHleKKya26X\")\n",
        "\n",
        "specific_artist_name = artists_network[\"name\"]\n",
        "\n",
        "recommendations = [(artist_name, degree) for artist_name, degree in top_degree_artists(artists, edges) if artist_name != specific_artist_name]\n",
        "\n",
        "print(\"Top 5 Artist Recommendations:\")\n",
        "for artist_name, degree in recommendations[:5]:\n",
        "    print(artist_name)\n",
        "\n"
        "\n",
        "\n"
      ],
      "metadata": {
        "colab": {
          "base_uri": "https://localhost:8080/"
        },
        "id": "7f7kWEnRv3bu",
        "outputId": "c6acd5c8-e295-4f65-e79b-bc33ed2bdb98"
      },
      "execution_count": 41,
      "outputs": [
        {
          "output_type": "stream",
          "name": "stdout",
          "text": [
            "Top 5 Artist Recommendations:\n",
            "Bebe Rexha\n",
            "Christina Aguilera\n",
            "Kesha\n",
            "Kelly Clarkson\n",
            "Jessie J\n"
          ]
        }
      ]
    },
    {
      "cell_type": "code",
      "execution_count": 10,
      "metadata": {
        "id": "THfBjiJYdVHQ"
      },
      "outputs": [],
      "source": [
        "with open('output.csv', 'w', newline='') as csvfile:\n",
        "    fieldnames = ['x', 'y', 'value']\n",
        "    writer = csv.DictWriter(csvfile, fieldnames=fieldnames)\n",
        "\n",
        "    writer.writeheader()\n",
        "\n",
        "    for (x, y) in edges:\n",
        "        writer.writerow({'x': x, 'y': y, 'value': 1})"
      ]
    }
  ],
  "metadata": {
    "kernelspec": {
      "display_name": "Python 3",
      "language": "python",
      "name": "python3"
    },
    "language_info": {
      "codemirror_mode": {
        "name": "ipython",
        "version": 3
      },
      "file_extension": ".py",
      "mimetype": "text/x-python",
      "name": "python",
      "nbconvert_exporter": "python",
      "pygments_lexer": "ipython3",
      "version": "3.10.0"
    },
    "colab": {
      "provenance": []
    }
  },
  "nbformat": 4,
  "nbformat_minor": 0
}
