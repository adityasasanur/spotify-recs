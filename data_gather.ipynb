{
 "cells": [
  {
   "cell_type": "code",
   "execution_count": 20,
   "metadata": {},
   "outputs": [],
   "source": [
    "import spotipy as spot\n",
    "from spotipy.oauth2 import SpotifyClientCredentials\n",
    "from collections import defaultdict\n",
    "import networkx as nx\n",
    "import matplotlib.pyplot as plt\n",
    "import csv"
   ]
  },
  {
   "cell_type": "code",
   "execution_count": 21,
   "metadata": {},
   "outputs": [],
   "source": [
    "\n",
    "cid = \"0fe1efb5886e47f2b3b13d7efc1d6c24\"\n",
    "secret = \"11f204ab8f7742b4bbba068f873747d4\"\n",
    "client_credentials_manager = SpotifyClientCredentials(client_id=cid, client_secret=secret)\n",
    "\n",
    "sp = spot.Spotify(client_credentials_manager = client_credentials_manager)\n",
    "unique_artists = set()\n",
    "def create_artists_network(id):\n",
    "\n",
    "    artists_network = {}\n",
    "    artists = set()\n",
    "    edges = set()\n",
    "    connection_degree = {}\n",
    "\n",
    "    artist_0 = sp.artist(id)\n",
    "    artists_network[\"id\"] = artist_0[\"id\"]\n",
    "    artists_network[\"name\"] = artist_0[\"name\"]\n",
    "    artists_network[\"genres\"] = artist_0[\"genres\"]\n",
    "    artists_network[\"popularity\"] = artist_0[\"popularity\"]\n",
    "    artists_network[\"related_artists\"] = {}\n",
    "\n",
    "    artists.add(artist_0[\"name\"])\n",
    "    connection_degree[artist_0[\"name\"]] = 0\n",
    "\n",
    "    artists_1 = sp.artist_related_artists(id)\n",
    "\n",
    "    for i in range(20):\n",
    "        artists_network[\"related_artists\"][i] = {}\n",
    "        artists_network[\"related_artists\"][i][\"id\"] = artists_1['artists'][i]['id']\n",
    "\n",
    "        artists_network[\"related_artists\"][i][\"name\"] = artists_1['artists'][i]['name']\n",
    "        artists_network[\"related_artists\"][i][\"genres\"] = artists_1['artists'][i]['genres']\n",
    "        artists_network[\"related_artists\"][i][\"popularity\"] = artists_1['artists'][i]['popularity']\n",
    "\n",
    "        artists_2 = sp.artist_related_artists(artists_1['artists'][i]['id'])\n",
    "        artists_network[\"related_artists\"][i][\"related_artists\"] = {}\n",
    "\n",
    "        artists.add(artists_1['artists'][i]['name'])\n",
    "        edges.add(tuple(sorted(([artist_0[\"name\"], artists_1['artists'][i]['name']]))))\n",
    "        if artists_1['artists'][i]['name'] not in connection_degree:\n",
    "            connection_degree[artists_1['artists'][i]['name']] = 1\n",
    "        for j in range(19):\n",
    "            artists_network[\"related_artists\"][i][\"related_artists\"][j] = {}\n",
    "            artists_network[\"related_artists\"][i][\"related_artists\"][j][\"id\"] =artists_2['artists'][j]['id']\n",
    "            artists_network[\"related_artists\"][i][\"related_artists\"][j][\"name\"] = artists_2['artists'][j]['name']\n",
    "            artists_network[\"related_artists\"][i][\"related_artists\"][j][\"genres\"] = artists_2['artists'][j]['genres']\n",
    "            artists_network[\"related_artists\"][i][\"related_artists\"][j][\"popularity\"] = artists_2['artists'][j]['popularity']\n",
    "\n",
    "            artists.add(artists_2['artists'][j]['name'])\n",
    "            edges.add(tuple(sorted(([artists_1['artists'][i]['name'], artists_2['artists'][j]['name']]))))\n",
    "            if artists_2['artists'][j]['name'] not in connection_degree:\n",
    "                connection_degree[artists_2['artists'][j]['name']] = 2\n",
    "\n",
    "\n",
    "    return artists_network, artists, edges\n",
    "\n",
    "artists_network, artists, edges = create_artists_network(\"6jJ0s89eD6GaHleKKya26X\")"
   ]
  },
  {
   "cell_type": "code",
   "execution_count": 22,
   "metadata": {},
   "outputs": [],
   "source": [
    "with open('output.csv', 'w', newline='') as csvfile:\n",
    "    fieldnames = ['x', 'y', 'value']\n",
    "    writer = csv.DictWriter(csvfile, fieldnames=fieldnames)\n",
    "    \n",
    "    writer.writeheader()\n",
    "    \n",
    "    for (x, y) in edges:\n",
    "        writer.writerow({'x': x, 'y': y, 'value': 1})"
   ]
  }
 ],
 "metadata": {
  "kernelspec": {
   "display_name": "Python 3",
   "language": "python",
   "name": "python3"
  },
  "language_info": {
   "codemirror_mode": {
    "name": "ipython",
    "version": 3
   },
   "file_extension": ".py",
   "mimetype": "text/x-python",
   "name": "python",
   "nbconvert_exporter": "python",
   "pygments_lexer": "ipython3",
   "version": "3.10.0"
  }
 },
 "nbformat": 4,
 "nbformat_minor": 2
}
